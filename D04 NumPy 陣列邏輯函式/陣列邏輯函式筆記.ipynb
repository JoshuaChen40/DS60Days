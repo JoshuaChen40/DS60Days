{
 "cells": [
  {
   "cell_type": "code",
   "execution_count": 1,
   "metadata": {},
   "outputs": [],
   "source": [
    "# numpy 陣列邏輯函式"
   ]
  },
  {
   "cell_type": "code",
   "execution_count": 2,
   "metadata": {},
   "outputs": [],
   "source": [
    "import numpy as np"
   ]
  },
  {
   "cell_type": "markdown",
   "metadata": {},
   "source": [
    "* np.isnan() ->是否為nan\n",
    "* np.isfinite() ->是否為有限數\n",
    "* np.isnat() ->是否為時間\n",
    "* np.isscalar() ->單一個元素是否為數值或字串 (陣列、清單等都會回傳False)\n",
    "* np.array_equal() 元素質、形狀均須想同\n",
    "* np.array_equiv() 元素質相同形狀可延展\n",
    "* np.not_equal\n",
    "* np.greater()\n",
    "* np.greater_equal()\n",
    "* np.less\n",
    "* np.less_equal\n",
    "* np.logial_and()\n",
    "* np.logial_or()\n",
    "* np.logial_not\n",
    "* np.logial_xor\n",
    "* np.all\n",
    "* np.any"
   ]
  }
 ],
 "metadata": {
  "kernelspec": {
   "display_name": "Python 3",
   "language": "python",
   "name": "python3"
  },
  "language_info": {
   "codemirror_mode": {
    "name": "ipython",
    "version": 3
   },
   "file_extension": ".py",
   "mimetype": "text/x-python",
   "name": "python",
   "nbconvert_exporter": "python",
   "pygments_lexer": "ipython3",
   "version": "3.8.5"
  }
 },
 "nbformat": 4,
 "nbformat_minor": 4
}
