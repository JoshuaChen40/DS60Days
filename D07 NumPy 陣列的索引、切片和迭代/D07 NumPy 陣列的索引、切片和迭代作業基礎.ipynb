{
 "cells": [
  {
   "cell_type": "markdown",
   "metadata": {
    "colab_type": "text",
    "id": "P6xk2_jLsvFF"
   },
   "source": [
    "# [作業目標]\n",
    "\n",
    "1. 請比較對一個 100 x 100 * 100 的陣列，使用不同方法對每一個元素 +1 的時間比較。\n",
    "\n",
    "2. 如何從一個陣列中，找出出現頻率最高的數值與位置？\n",
    "\n",
    "3. 如何利用 list(...) 實現 a.tolist() 的效果？試著用程式實作。\n"
   ]
  },
  {
   "cell_type": "markdown",
   "metadata": {
    "colab_type": "text",
    "id": "uXGll28asvFS"
   },
   "source": [
    "# 作業 "
   ]
  },
  {
   "cell_type": "markdown",
   "metadata": {},
   "source": [
    "### 1. 請比較對一個 100 x 100 x 100 的陣列，使用不同方法對每一個元素 +1 的時間比較。\n",
    "\n",
    "\n"
   ]
  },
  {
   "cell_type": "code",
   "execution_count": 1,
   "metadata": {},
   "outputs": [],
   "source": [
    "# 記得先 Import 正確的套件\n",
    "import numpy as np"
   ]
  },
  {
   "cell_type": "code",
   "execution_count": 2,
   "metadata": {
    "colab": {},
    "colab_type": "code",
    "id": "5QrYoyNWsvFS"
   },
   "outputs": [],
   "source": [
    "Z = np.random.randint(0, 10, 1000000).reshape(100, 100, 100)"
   ]
  },
  {
   "cell_type": "code",
   "execution_count": 5,
   "metadata": {},
   "outputs": [
    {
     "name": "stdout",
     "output_type": "stream",
     "text": [
      "82 ns ± 23.2 ns per loop (mean ± std. dev. of 7 runs, 10 loops each)\n"
     ]
    }
   ],
   "source": [
    "%timeit -n 10 a = 2\n",
    "Z = Z+1"
   ]
  },
  {
   "cell_type": "code",
   "execution_count": 7,
   "metadata": {},
   "outputs": [
    {
     "name": "stdout",
     "output_type": "stream",
     "text": [
      "100 ns ± 26.5 ns per loop (mean ± std. dev. of 7 runs, 10 loops each)\n"
     ]
    }
   ],
   "source": [
    "%timeit -n 10 a = 2\n",
    "\n",
    "Z2 = []\n",
    "\n",
    "for i in Z.flat:\n",
    "    Z2.append(i+1)\n",
    "Z2 = np.array(Z2).reshape(100,100,100)"
   ]
  },
  {
   "cell_type": "code",
   "execution_count": 8,
   "metadata": {},
   "outputs": [
    {
     "name": "stdout",
     "output_type": "stream",
     "text": [
      "91.1 ns ± 20.4 ns per loop (mean ± std. dev. of 7 runs, 10 loops each)\n"
     ]
    }
   ],
   "source": [
    "%timeit -n 10 a = 2\n",
    "\n",
    "Z3 = []\n",
    "\n",
    "for i in np.nditer (Z, order = 'C'):\n",
    "    Z3.append(i+1)\n",
    "Z3 = np.array(Z3, dtype = int).reshape(100,100,100)\n",
    "#用nditer"
   ]
  },
  {
   "cell_type": "markdown",
   "metadata": {},
   "source": [
    "### 2. 如何從一個陣列中，找出出現頻率最高的數值與位置？\n"
   ]
  },
  {
   "cell_type": "code",
   "execution_count": 9,
   "metadata": {
    "colab": {},
    "colab_type": "code",
    "id": "e1gVI0tvsvFY"
   },
   "outputs": [
    {
     "name": "stdout",
     "output_type": "stream",
     "text": [
      "[4 4 6 9 6 9 9 3 4 2 6 9 2 7 3 6 0 3 2 2 9 2 8 7 9 8 4 2 5 6 8 3 5 0 1 6 4\n",
      " 5 9 8 9 0 1 9 3 3 2 0 5 1]\n"
     ]
    }
   ],
   "source": [
    "Z = np.random.randint(0,10,50)\n",
    "print(Z)"
   ]
  },
  {
   "cell_type": "code",
   "execution_count": 10,
   "metadata": {},
   "outputs": [
    {
     "name": "stdout",
     "output_type": "stream",
     "text": [
      "max int in array Z is: 9\n",
      "max int location: (array([ 3,  5,  6, 11, 20, 24, 38, 40, 43], dtype=int64),)\n"
     ]
    }
   ],
   "source": [
    "print('max int in array Z is: {}'.format(Z.max()))\n",
    "print('max int location: {}'.format(np.where(Z == Z.max())))"
   ]
  },
  {
   "cell_type": "markdown",
   "metadata": {},
   "source": [
    "### 3. 如何利用 list(...) 實現 a.tolist() 的效果？試著用程式實作。\n"
   ]
  },
  {
   "cell_type": "code",
   "execution_count": 11,
   "metadata": {},
   "outputs": [
    {
     "name": "stdout",
     "output_type": "stream",
     "text": [
      "[9, 0, 5, 2, 2, 8]\n",
      "[9, 0, 5, 2, 2, 8]\n",
      "[[1, 0, 9, 8], [6, 1, 1, 3], [8, 2, 5, 2]]\n",
      "[array([1, 0, 9, 8]), array([6, 1, 1, 3]), array([8, 2, 5, 2])]\n",
      "[[[7, 4], [8, 9], [0, 8]], [[8, 4], [8, 0], [8, 3]]]\n",
      "[array([[7, 4],\n",
      "       [8, 9],\n",
      "       [0, 8]]), array([[8, 4],\n",
      "       [8, 0],\n",
      "       [8, 3]])]\n"
     ]
    }
   ],
   "source": [
    "a = np.random.randint(10, size=6) \n",
    "print(a.tolist())\n",
    "print(list(a))\n",
    "\n",
    "b = np.random.randint(10, size=(3,4)) \n",
    "print(b.tolist())\n",
    "print(list(b))\n",
    "\n",
    "c = np.random.randint(10, size=(2,3,2)) \n",
    "print(c.tolist())\n",
    "print(list(c))\n"
   ]
  },
  {
   "cell_type": "code",
   "execution_count": 12,
   "metadata": {},
   "outputs": [
    {
     "name": "stdout",
     "output_type": "stream",
     "text": [
      "[9, 0, 5, 2, 2, 8]\n",
      "[9, 0, 5, 2, 2, 8]\n"
     ]
    }
   ],
   "source": [
    "print( a.tolist() )\n",
    "print( list(a) )"
   ]
  },
  {
   "cell_type": "code",
   "execution_count": 13,
   "metadata": {},
   "outputs": [
    {
     "name": "stdout",
     "output_type": "stream",
     "text": [
      "[[1, 0, 9, 8], [6, 1, 1, 3], [8, 2, 5, 2]]\n",
      "[[1, 0, 9, 8], [6, 1, 1, 3], [8, 2, 5, 2]]\n"
     ]
    }
   ],
   "source": [
    "print( b.tolist() )\n",
    "print( [ list(b[x]) for x in range(len(b)) ] )"
   ]
  },
  {
   "cell_type": "code",
   "execution_count": 14,
   "metadata": {},
   "outputs": [
    {
     "name": "stdout",
     "output_type": "stream",
     "text": [
      "[7 4]\n",
      "[8 9]\n",
      "[0 8]\n",
      "[8 4]\n",
      "[8 0]\n",
      "[8 3]\n",
      "[[7, 4], [8, 9], [0, 8], [8, 4], [8, 0], [8, 3]]\n"
     ]
    }
   ],
   "source": [
    "a = []\n",
    "for x in c[:,]:\n",
    "    for y in range(len(x)):\n",
    "        print(x[y])\n",
    "        a.append(list(x[y]))\n",
    "print(a)"
   ]
  }
 ],
 "metadata": {
  "colab": {
   "name": "Day_023_HW.ipynb",
   "provenance": []
  },
  "kernelspec": {
   "display_name": "Python 3",
   "language": "python",
   "name": "python3"
  },
  "language_info": {
   "codemirror_mode": {
    "name": "ipython",
    "version": 3
   },
   "file_extension": ".py",
   "mimetype": "text/x-python",
   "name": "python",
   "nbconvert_exporter": "python",
   "pygments_lexer": "ipython3",
   "version": "3.8.5"
  }
 },
 "nbformat": 4,
 "nbformat_minor": 1
}
