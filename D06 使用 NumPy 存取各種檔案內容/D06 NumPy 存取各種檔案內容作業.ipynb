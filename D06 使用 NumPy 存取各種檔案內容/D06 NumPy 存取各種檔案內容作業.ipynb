{
 "cells": [
  {
   "cell_type": "markdown",
   "metadata": {
    "id": "YWb4mnd4fqAG"
   },
   "source": [
    "作業目標<br>\n",
    "讀取存取陣列資料<br>\n",
    "作業重點<br>\n",
    "多陣列存一起需要存成npz，讀取須注意npz中有多個陣列"
   ]
  },
  {
   "cell_type": "markdown",
   "metadata": {
    "id": "UXV4vW6IfsW6"
   },
   "source": [
    "題目:<br>\n",
    "1. 將下兩列array存成npz檔<br>\n",
    "array1 = np.array(range(30))<br>\n",
    "array2 = np.array([2,3,5])<br>\n",
    "2. 讀取剛剛的npz檔，加入下列array一起存成新的npz檔\n"
   ]
  },
  {
   "cell_type": "code",
   "execution_count": 1,
   "metadata": {
    "id": "1mZQSUx_fry7"
   },
   "outputs": [],
   "source": [
    "import numpy as np\n",
    "#. 將下兩列array存成npz檔\n",
    "array1 = np.array(range(30))\n",
    "array2 = np.array([2,3,5])"
   ]
  },
  {
   "cell_type": "code",
   "execution_count": 3,
   "metadata": {},
   "outputs": [],
   "source": [
    "with open('arrays.npz','wb') as f:\n",
    "    np.savez(f, array1, array2)"
   ]
  },
  {
   "cell_type": "code",
   "execution_count": 41,
   "metadata": {
    "id": "Ie1TGcssiIDN"
   },
   "outputs": [],
   "source": [
    "#2. 讀取剛剛的npz檔，加入下列array一起存成新的npz檔\n",
    "array_npz = np.load('arrays.npz')\n",
    "\n",
    "multi_array = np.load('multi_array.npz')\n",
    "\n",
    "names_ = np.genfromtxt(\"names.txt\")\n",
    "\n",
    "one_array = np.load('one_array.npy')\n",
    "\n",
    "test_ = np.genfromtxt('test.csv', delimiter = ',')\n",
    "\n",
    "test2_ = np.genfromtxt('test.gz', delimiter = ',')\n",
    "\n",
    "test3_ = np.load('test.npy')\n",
    "\n",
    "test4_ = np.genfromtxt('test.out')\n",
    "\n",
    "transform = np.genfromtxt('transform.txt',\n",
    "                          delimiter=',', dtype=\"i8, i8, U3, U3\")\n",
    "\n",
    "with open('arrays2.npz','wb') as f:\n",
    "    np.savez(f, array_npz, multi_array, names_, one_array, test_,\n",
    "             test2_, test3_, test4_, transform)"
   ]
  }
 ],
 "metadata": {
  "colab": {
   "collapsed_sections": [],
   "name": "作業Hong題目.ipynb",
   "provenance": []
  },
  "kernelspec": {
   "display_name": "Python 3",
   "language": "python",
   "name": "python3"
  },
  "language_info": {
   "codemirror_mode": {
    "name": "ipython",
    "version": 3
   },
   "file_extension": ".py",
   "mimetype": "text/x-python",
   "name": "python",
   "nbconvert_exporter": "python",
   "pygments_lexer": "ipython3",
   "version": "3.8.5"
  }
 },
 "nbformat": 4,
 "nbformat_minor": 1
}
